{
 "cells": [
  {
   "cell_type": "markdown",
   "id": "07d4e77d",
   "metadata": {
    "papermill": {
     "duration": 0.005599,
     "end_time": "2022-09-14T15:58:22.417867",
     "exception": false,
     "start_time": "2022-09-14T15:58:22.412268",
     "status": "completed"
    },
    "tags": []
   },
   "source": [
    "**This notebook is an exercise in the [Data Cleaning](https://www.kaggle.com/learn/data-cleaning) course.  You can reference the tutorial at [this link](https://www.kaggle.com/alexisbcook/character-encodings).**\n",
    "\n",
    "---\n"
   ]
  },
  {
   "cell_type": "markdown",
   "id": "9f7e51dc",
   "metadata": {
    "papermill": {
     "duration": 0.004058,
     "end_time": "2022-09-14T15:58:22.426615",
     "exception": false,
     "start_time": "2022-09-14T15:58:22.422557",
     "status": "completed"
    },
    "tags": []
   },
   "source": [
    "In this exercise, you'll apply what you learned in the **Character encodings** tutorial.\n",
    "\n",
    "# Setup\n",
    "\n",
    "The questions below will give you feedback on your work. Run the following cell to set up the feedback system."
   ]
  },
  {
   "cell_type": "code",
   "execution_count": 1,
   "id": "26f0dccf",
   "metadata": {
    "execution": {
     "iopub.execute_input": "2022-09-14T15:58:22.438560Z",
     "iopub.status.busy": "2022-09-14T15:58:22.437635Z",
     "iopub.status.idle": "2022-09-14T15:58:22.526828Z",
     "shell.execute_reply": "2022-09-14T15:58:22.524781Z"
    },
    "papermill": {
     "duration": 0.099302,
     "end_time": "2022-09-14T15:58:22.530548",
     "exception": false,
     "start_time": "2022-09-14T15:58:22.431246",
     "status": "completed"
    },
    "tags": []
   },
   "outputs": [
    {
     "name": "stdout",
     "output_type": "stream",
     "text": [
      "Setup Complete\n"
     ]
    }
   ],
   "source": [
    "from learntools.core import binder\n",
    "binder.bind(globals())\n",
    "from learntools.data_cleaning.ex4 import *\n",
    "print(\"Setup Complete\")"
   ]
  },
  {
   "cell_type": "markdown",
   "id": "bf9d43c8",
   "metadata": {
    "papermill": {
     "duration": 0.004551,
     "end_time": "2022-09-14T15:58:22.540130",
     "exception": false,
     "start_time": "2022-09-14T15:58:22.535579",
     "status": "completed"
    },
    "tags": []
   },
   "source": [
    "# Get our environment set up\n",
    "\n",
    "The first thing we'll need to do is load in the libraries we'll be using."
   ]
  },
  {
   "cell_type": "code",
   "execution_count": 2,
   "id": "19d21467",
   "metadata": {
    "execution": {
     "iopub.execute_input": "2022-09-14T15:58:22.551751Z",
     "iopub.status.busy": "2022-09-14T15:58:22.551321Z",
     "iopub.status.idle": "2022-09-14T15:58:22.556921Z",
     "shell.execute_reply": "2022-09-14T15:58:22.555623Z"
    },
    "papermill": {
     "duration": 0.014915,
     "end_time": "2022-09-14T15:58:22.560161",
     "exception": false,
     "start_time": "2022-09-14T15:58:22.545246",
     "status": "completed"
    },
    "tags": []
   },
   "outputs": [],
   "source": [
    "# modules we'll use\n",
    "import pandas as pd\n",
    "import numpy as np\n",
    "\n",
    "# helpful character encoding module\n",
    "import chardet\n",
    "\n",
    "# set seed for reproducibility\n",
    "np.random.seed(0)"
   ]
  },
  {
   "cell_type": "markdown",
   "id": "5c91f5a5",
   "metadata": {
    "papermill": {
     "duration": 0.005223,
     "end_time": "2022-09-14T15:58:22.570436",
     "exception": false,
     "start_time": "2022-09-14T15:58:22.565213",
     "status": "completed"
    },
    "tags": []
   },
   "source": [
    "# 1) What are encodings?\n",
    "\n",
    "You're working with a dataset composed of bytes.  Run the code cell below to print a sample entry."
   ]
  },
  {
   "cell_type": "code",
   "execution_count": 3,
   "id": "38dd34e5",
   "metadata": {
    "execution": {
     "iopub.execute_input": "2022-09-14T15:58:22.582338Z",
     "iopub.status.busy": "2022-09-14T15:58:22.581533Z",
     "iopub.status.idle": "2022-09-14T15:58:22.588031Z",
     "shell.execute_reply": "2022-09-14T15:58:22.586982Z"
    },
    "papermill": {
     "duration": 0.015338,
     "end_time": "2022-09-14T15:58:22.590435",
     "exception": false,
     "start_time": "2022-09-14T15:58:22.575097",
     "status": "completed"
    },
    "tags": []
   },
   "outputs": [
    {
     "name": "stdout",
     "output_type": "stream",
     "text": [
      "b'\\xa7A\\xa6n'\n",
      "data type: <class 'bytes'>\n"
     ]
    }
   ],
   "source": [
    "sample_entry = b'\\xa7A\\xa6n'\n",
    "print(sample_entry)\n",
    "print('data type:', type(sample_entry))"
   ]
  },
  {
   "cell_type": "markdown",
   "id": "683fdbbe",
   "metadata": {
    "papermill": {
     "duration": 0.004578,
     "end_time": "2022-09-14T15:58:22.600187",
     "exception": false,
     "start_time": "2022-09-14T15:58:22.595609",
     "status": "completed"
    },
    "tags": []
   },
   "source": [
    "You notice that it doesn't use the standard UTF-8 encoding. \n",
    "\n",
    "Use the next code cell to create a variable `new_entry` that changes the encoding from `\"big5-tw\"` to `\"utf-8\"`.  `new_entry` should have the bytes datatype."
   ]
  },
  {
   "cell_type": "code",
   "execution_count": 4,
   "id": "b2fc1880",
   "metadata": {
    "execution": {
     "iopub.execute_input": "2022-09-14T15:58:22.613292Z",
     "iopub.status.busy": "2022-09-14T15:58:22.612269Z",
     "iopub.status.idle": "2022-09-14T15:58:22.623429Z",
     "shell.execute_reply": "2022-09-14T15:58:22.622332Z"
    },
    "papermill": {
     "duration": 0.020843,
     "end_time": "2022-09-14T15:58:22.625814",
     "exception": false,
     "start_time": "2022-09-14T15:58:22.604971",
     "status": "completed"
    },
    "tags": []
   },
   "outputs": [
    {
     "data": {
      "application/javascript": [
       "parent.postMessage({\"jupyterEvent\": \"custom.exercise_interaction\", \"data\": {\"outcomeType\": 1, \"valueTowardsCompletion\": 0.3333333333333333, \"interactionType\": 1, \"questionType\": 1, \"questionId\": \"1_EncodingsIntro\", \"learnToolsVersion\": \"0.3.4\", \"failureMessage\": \"\", \"exceptionClass\": \"\", \"trace\": \"\"}}, \"*\")"
      ],
      "text/plain": [
       "<IPython.core.display.Javascript object>"
      ]
     },
     "metadata": {},
     "output_type": "display_data"
    },
    {
     "data": {
      "text/markdown": [
       "<span style=\"color:#33cc33\">Correct</span>"
      ],
      "text/plain": [
       "Correct"
      ]
     },
     "metadata": {},
     "output_type": "display_data"
    }
   ],
   "source": [
    "before = sample_entry.decode(\"big5-tw\")\n",
    "new_entry = before.encode()\n",
    "# Check your answer\n",
    "q1.check()"
   ]
  },
  {
   "cell_type": "code",
   "execution_count": 5,
   "id": "5db42d7d",
   "metadata": {
    "execution": {
     "iopub.execute_input": "2022-09-14T15:58:22.638266Z",
     "iopub.status.busy": "2022-09-14T15:58:22.637596Z",
     "iopub.status.idle": "2022-09-14T15:58:22.641546Z",
     "shell.execute_reply": "2022-09-14T15:58:22.640629Z"
    },
    "papermill": {
     "duration": 0.012706,
     "end_time": "2022-09-14T15:58:22.643808",
     "exception": false,
     "start_time": "2022-09-14T15:58:22.631102",
     "status": "completed"
    },
    "tags": []
   },
   "outputs": [],
   "source": [
    "# Lines below will give you a hint or solution code\n",
    "#q1.hint()\n",
    "#q1.solution()"
   ]
  },
  {
   "cell_type": "markdown",
   "id": "6c0d8956",
   "metadata": {
    "papermill": {
     "duration": 0.004697,
     "end_time": "2022-09-14T15:58:22.653892",
     "exception": false,
     "start_time": "2022-09-14T15:58:22.649195",
     "status": "completed"
    },
    "tags": []
   },
   "source": [
    "# 2) Reading in files with encoding problems\n",
    "\n",
    "Use the code cell below to read in this file at path `\"../input/fatal-police-shootings-in-the-us/PoliceKillingsUS.csv\"`.  \n",
    "\n",
    "Figure out what the correct encoding should be and read in the file to a DataFrame `police_killings`."
   ]
  },
  {
   "cell_type": "code",
   "execution_count": 6,
   "id": "4a746122",
   "metadata": {
    "execution": {
     "iopub.execute_input": "2022-09-14T15:58:22.665965Z",
     "iopub.status.busy": "2022-09-14T15:58:22.665227Z",
     "iopub.status.idle": "2022-09-14T15:58:22.692457Z",
     "shell.execute_reply": "2022-09-14T15:58:22.691204Z"
    },
    "papermill": {
     "duration": 0.036032,
     "end_time": "2022-09-14T15:58:22.694909",
     "exception": false,
     "start_time": "2022-09-14T15:58:22.658877",
     "status": "completed"
    },
    "tags": []
   },
   "outputs": [
    {
     "data": {
      "application/javascript": [
       "parent.postMessage({\"jupyterEvent\": \"custom.exercise_interaction\", \"data\": {\"outcomeType\": 1, \"valueTowardsCompletion\": 0.3333333333333333, \"interactionType\": 1, \"questionType\": 1, \"questionId\": \"2_ReadIn\", \"learnToolsVersion\": \"0.3.4\", \"failureMessage\": \"\", \"exceptionClass\": \"\", \"trace\": \"\"}}, \"*\")"
      ],
      "text/plain": [
       "<IPython.core.display.Javascript object>"
      ]
     },
     "metadata": {},
     "output_type": "display_data"
    },
    {
     "data": {
      "text/markdown": [
       "<span style=\"color:#33cc33\">Correct</span>"
      ],
      "text/plain": [
       "Correct"
      ]
     },
     "metadata": {},
     "output_type": "display_data"
    }
   ],
   "source": [
    "# TODO: Load in the DataFrame correctly.\n",
    "police_killings = pd.read_csv(\"../input/fatal-police-shootings-in-the-us/PoliceKillingsUS.csv\", encoding='Windows-1252')\n",
    "# Check your answer\n",
    "q2.check()"
   ]
  },
  {
   "cell_type": "markdown",
   "id": "79c92ab6",
   "metadata": {
    "papermill": {
     "duration": 0.004766,
     "end_time": "2022-09-14T15:58:22.704909",
     "exception": false,
     "start_time": "2022-09-14T15:58:22.700143",
     "status": "completed"
    },
    "tags": []
   },
   "source": [
    "Feel free to use any additional code cells for supplemental work.  To get credit for finishing this question, you'll need to run `q2.check()` and get a result of **Correct**."
   ]
  },
  {
   "cell_type": "code",
   "execution_count": 7,
   "id": "0be412f6",
   "metadata": {
    "execution": {
     "iopub.execute_input": "2022-09-14T15:58:22.717310Z",
     "iopub.status.busy": "2022-09-14T15:58:22.716356Z",
     "iopub.status.idle": "2022-09-14T15:58:22.721805Z",
     "shell.execute_reply": "2022-09-14T15:58:22.720771Z"
    },
    "papermill": {
     "duration": 0.014022,
     "end_time": "2022-09-14T15:58:22.723994",
     "exception": false,
     "start_time": "2022-09-14T15:58:22.709972",
     "status": "completed"
    },
    "tags": []
   },
   "outputs": [],
   "source": [
    "# (Optional) Use this code cell for any additional work."
   ]
  },
  {
   "cell_type": "code",
   "execution_count": 8,
   "id": "dbbf76c9",
   "metadata": {
    "execution": {
     "iopub.execute_input": "2022-09-14T15:58:22.736018Z",
     "iopub.status.busy": "2022-09-14T15:58:22.735295Z",
     "iopub.status.idle": "2022-09-14T15:58:22.739926Z",
     "shell.execute_reply": "2022-09-14T15:58:22.739164Z"
    },
    "papermill": {
     "duration": 0.013051,
     "end_time": "2022-09-14T15:58:22.742082",
     "exception": false,
     "start_time": "2022-09-14T15:58:22.729031",
     "status": "completed"
    },
    "tags": []
   },
   "outputs": [],
   "source": [
    "# Lines below will give you a hint or solution code\n",
    "#q2.hint()\n",
    "#q2.solution()"
   ]
  },
  {
   "cell_type": "markdown",
   "id": "b66c674f",
   "metadata": {
    "papermill": {
     "duration": 0.004702,
     "end_time": "2022-09-14T15:58:22.751852",
     "exception": false,
     "start_time": "2022-09-14T15:58:22.747150",
     "status": "completed"
    },
    "tags": []
   },
   "source": [
    "# 3) Saving your files with UTF-8 encoding\n",
    "\n",
    "Save a version of the police killings dataset to CSV with UTF-8 encoding.  Your answer will be marked correct after saving this file.  \n",
    "\n",
    "Note: When using the `to_csv()` method, supply only the name of the file (e.g., `\"my_file.csv\"`).  This saves the file at the filepath `\"/kaggle/working/my_file.csv\"`."
   ]
  },
  {
   "cell_type": "code",
   "execution_count": 9,
   "id": "9fad9f31",
   "metadata": {
    "execution": {
     "iopub.execute_input": "2022-09-14T15:58:22.764156Z",
     "iopub.status.busy": "2022-09-14T15:58:22.763363Z",
     "iopub.status.idle": "2022-09-14T15:58:22.772606Z",
     "shell.execute_reply": "2022-09-14T15:58:22.771676Z"
    },
    "papermill": {
     "duration": 0.017895,
     "end_time": "2022-09-14T15:58:22.774868",
     "exception": false,
     "start_time": "2022-09-14T15:58:22.756973",
     "status": "completed"
    },
    "tags": []
   },
   "outputs": [
    {
     "data": {
      "application/javascript": [
       "parent.postMessage({\"jupyterEvent\": \"custom.exercise_interaction\", \"data\": {\"outcomeType\": 2, \"failureMessage\": \"Please save a CSV file and run this code cell again to get credit!\", \"interactionType\": 1, \"questionType\": 2, \"questionId\": \"3_SaveCSV\", \"learnToolsVersion\": \"0.3.4\", \"valueTowardsCompletion\": 0.0, \"exceptionClass\": \"\", \"trace\": \"\"}}, \"*\")"
      ],
      "text/plain": [
       "<IPython.core.display.Javascript object>"
      ]
     },
     "metadata": {},
     "output_type": "display_data"
    },
    {
     "data": {
      "text/markdown": [
       "<span style=\"color:#cc3333\">Incorrect:</span> Please save a CSV file and run this code cell again to get credit!"
      ],
      "text/plain": [
       "Incorrect: Please save a CSV file and run this code cell again to get credit!"
      ]
     },
     "metadata": {},
     "output_type": "display_data"
    }
   ],
   "source": [
    "# TODO: Save the police killings dataset to CSV\n",
    "____\n",
    "\n",
    "# Check your answer\n",
    "q3.check()"
   ]
  },
  {
   "cell_type": "code",
   "execution_count": 10,
   "id": "7a0010ea",
   "metadata": {
    "execution": {
     "iopub.execute_input": "2022-09-14T15:58:22.787780Z",
     "iopub.status.busy": "2022-09-14T15:58:22.786605Z",
     "iopub.status.idle": "2022-09-14T15:58:22.795866Z",
     "shell.execute_reply": "2022-09-14T15:58:22.794967Z"
    },
    "papermill": {
     "duration": 0.017962,
     "end_time": "2022-09-14T15:58:22.798166",
     "exception": false,
     "start_time": "2022-09-14T15:58:22.780204",
     "status": "completed"
    },
    "tags": []
   },
   "outputs": [
    {
     "data": {
      "application/javascript": [
       "parent.postMessage({\"jupyterEvent\": \"custom.exercise_interaction\", \"data\": {\"interactionType\": 3, \"questionType\": 2, \"questionId\": \"3_SaveCSV\", \"learnToolsVersion\": \"0.3.4\", \"valueTowardsCompletion\": 0.0, \"failureMessage\": \"\", \"exceptionClass\": \"\", \"trace\": \"\", \"outcomeType\": 4}}, \"*\")"
      ],
      "text/plain": [
       "<IPython.core.display.Javascript object>"
      ]
     },
     "metadata": {},
     "output_type": "display_data"
    },
    {
     "data": {
      "text/markdown": [
       "<span style=\"color:#33cc99\">Solution:</span> \n",
       "```python\n",
       "\n",
       "police_killings.to_csv(\"my_file.csv\")\n",
       "\n",
       "```"
      ],
      "text/plain": [
       "Solution: \n",
       "```python\n",
       "\n",
       "police_killings.to_csv(\"my_file.csv\")\n",
       "\n",
       "```"
      ]
     },
     "metadata": {},
     "output_type": "display_data"
    }
   ],
   "source": [
    "# Lines below will give you a hint or solution code\n",
    "#q3.hint()\n",
    "q3.solution()"
   ]
  },
  {
   "cell_type": "markdown",
   "id": "3f4d1cf9",
   "metadata": {
    "papermill": {
     "duration": 0.005243,
     "end_time": "2022-09-14T15:58:22.808894",
     "exception": false,
     "start_time": "2022-09-14T15:58:22.803651",
     "status": "completed"
    },
    "tags": []
   },
   "source": [
    "# (Optional) More practice\n",
    "\n",
    "Check out [this dataset of files in different character encodings](https://www.kaggle.com/rtatman/character-encoding-examples). Can you read in all the files with their original encodings and them save them out as UTF-8 files?\n",
    "\n",
    "If you have a file that's in UTF-8 but has just a couple of weird-looking characters in it, you can try out the [ftfy module](https://ftfy.readthedocs.io/en/latest/#) and see if it helps. \n",
    "\n",
    "# Keep going\n",
    "\n",
    "In the final lesson, learn how to [**clean up inconsistent text entries**](https://www.kaggle.com/alexisbcook/inconsistent-data-entry) in your dataset."
   ]
  }
 ],
 "metadata": {
  "kernelspec": {
   "display_name": "Python 3",
   "language": "python",
   "name": "python3"
  },
  "language_info": {
   "codemirror_mode": {
    "name": "ipython",
    "version": 3
   },
   "file_extension": ".py",
   "mimetype": "text/x-python",
   "name": "python",
   "nbconvert_exporter": "python",
   "pygments_lexer": "ipython3",
   "version": "3.7.12"
  },
  "papermill": {
   "default_parameters": {},
   "duration": 12.919272,
   "end_time": "2022-09-14T15:58:25.651024",
   "environment_variables": {},
   "exception": null,
   "input_path": "__notebook__.ipynb",
   "output_path": "__notebook__.ipynb",
   "parameters": {},
   "start_time": "2022-09-14T15:58:12.731752",
   "version": "2.3.4"
  }
 },
 "nbformat": 4,
 "nbformat_minor": 5
}
